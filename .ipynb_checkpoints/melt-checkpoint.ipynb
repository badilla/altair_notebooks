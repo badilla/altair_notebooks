{
 "cells": [
  {
   "cell_type": "code",
   "execution_count": 47,
   "metadata": {},
   "outputs": [],
   "source": [
    "import pandas as pd\n",
    "import altair as alt"
   ]
  },
  {
   "cell_type": "code",
   "execution_count": 67,
   "metadata": {},
   "outputs": [],
   "source": [
    "df = pd.read_csv('test_pipeline.txt',index_col=0,header=0,delimiter='\\t')\n",
    "#print(df.columns)\n",
    "df_t = df.transpose()\n",
    "df_t = df_t.reset_index()\n",
    "df_t.rename(columns = {'index':'sample'}, inplace = True)"
   ]
  },
  {
   "cell_type": "code",
   "execution_count": 68,
   "metadata": {},
   "outputs": [
    {
     "data": {
      "text/html": [
       "<div>\n",
       "<style scoped>\n",
       "    .dataframe tbody tr th:only-of-type {\n",
       "        vertical-align: middle;\n",
       "    }\n",
       "\n",
       "    .dataframe tbody tr th {\n",
       "        vertical-align: top;\n",
       "    }\n",
       "\n",
       "    .dataframe thead th {\n",
       "        text-align: right;\n",
       "    }\n",
       "</style>\n",
       "<table border=\"1\" class=\"dataframe\">\n",
       "  <thead>\n",
       "    <tr style=\"text-align: right;\">\n",
       "      <th></th>\n",
       "      <th>sample</th>\n",
       "      <th>Artery_Aorta_NR_0_7_3</th>\n",
       "      <th>Artery_Coronary_NR_0_7_3</th>\n",
       "      <th>Artery_Tibial_NR_0_7_3</th>\n",
       "      <th>Brain_Amygdala_NR_0_7_3</th>\n",
       "      <th>Brain_Anterior_cingulate_cortex_(BA24)_NR_0_7_3</th>\n",
       "      <th>Brain_Caudate_(basal_ganglia)_NR_0_7_3</th>\n",
       "      <th>Brain_Cerebellar_Hemisphere_NR_0_7_3</th>\n",
       "      <th>Brain_Cerebellum_NR_0_7_3</th>\n",
       "      <th>Brain_Frontal_Cortex_(BA9)_NR_0_7_3</th>\n",
       "    </tr>\n",
       "  </thead>\n",
       "  <tbody>\n",
       "    <tr>\n",
       "      <th>0</th>\n",
       "      <td>Retina_1001LT_S11001_Ret_LT_04</td>\n",
       "      <td>0.02</td>\n",
       "      <td>0.06</td>\n",
       "      <td>0.18</td>\n",
       "      <td>9.07</td>\n",
       "      <td>2.53</td>\n",
       "      <td>3.76</td>\n",
       "      <td>35.82</td>\n",
       "      <td>37.19</td>\n",
       "      <td>24.93</td>\n",
       "    </tr>\n",
       "    <tr>\n",
       "      <th>1</th>\n",
       "      <td>Retina_1001RT_S3001_Ret_Control_04</td>\n",
       "      <td>0.05</td>\n",
       "      <td>0.11</td>\n",
       "      <td>0.18</td>\n",
       "      <td>8.25</td>\n",
       "      <td>2.31</td>\n",
       "      <td>3.63</td>\n",
       "      <td>31.47</td>\n",
       "      <td>32.49</td>\n",
       "      <td>22.33</td>\n",
       "    </tr>\n",
       "    <tr>\n",
       "      <th>2</th>\n",
       "      <td>Retina_1002LT_S27001_Ret_LT_04</td>\n",
       "      <td>0.02</td>\n",
       "      <td>0.02</td>\n",
       "      <td>0.18</td>\n",
       "      <td>8.27</td>\n",
       "      <td>2.29</td>\n",
       "      <td>3.57</td>\n",
       "      <td>32.06</td>\n",
       "      <td>32.81</td>\n",
       "      <td>22.48</td>\n",
       "    </tr>\n",
       "    <tr>\n",
       "      <th>3</th>\n",
       "      <td>Retina_1002RT_S19001_Ret_Control_04</td>\n",
       "      <td>0.26</td>\n",
       "      <td>0.26</td>\n",
       "      <td>0.29</td>\n",
       "      <td>6.98</td>\n",
       "      <td>2.01</td>\n",
       "      <td>3.37</td>\n",
       "      <td>27.19</td>\n",
       "      <td>27.99</td>\n",
       "      <td>19.12</td>\n",
       "    </tr>\n",
       "    <tr>\n",
       "      <th>4</th>\n",
       "      <td>Retina_1003LT_S41001_Ret_LT_06</td>\n",
       "      <td>0.04</td>\n",
       "      <td>0.03</td>\n",
       "      <td>0.25</td>\n",
       "      <td>7.97</td>\n",
       "      <td>2.31</td>\n",
       "      <td>3.72</td>\n",
       "      <td>30.11</td>\n",
       "      <td>31.01</td>\n",
       "      <td>21.49</td>\n",
       "    </tr>\n",
       "  </tbody>\n",
       "</table>\n",
       "</div>"
      ],
      "text/plain": [
       "                                sample  Artery_Aorta_NR_0_7_3  \\\n",
       "0       Retina_1001LT_S11001_Ret_LT_04                   0.02   \n",
       "1   Retina_1001RT_S3001_Ret_Control_04                   0.05   \n",
       "2       Retina_1002LT_S27001_Ret_LT_04                   0.02   \n",
       "3  Retina_1002RT_S19001_Ret_Control_04                   0.26   \n",
       "4       Retina_1003LT_S41001_Ret_LT_06                   0.04   \n",
       "\n",
       "   Artery_Coronary_NR_0_7_3  Artery_Tibial_NR_0_7_3  Brain_Amygdala_NR_0_7_3  \\\n",
       "0                      0.06                    0.18                     9.07   \n",
       "1                      0.11                    0.18                     8.25   \n",
       "2                      0.02                    0.18                     8.27   \n",
       "3                      0.26                    0.29                     6.98   \n",
       "4                      0.03                    0.25                     7.97   \n",
       "\n",
       "   Brain_Anterior_cingulate_cortex_(BA24)_NR_0_7_3  \\\n",
       "0                                             2.53   \n",
       "1                                             2.31   \n",
       "2                                             2.29   \n",
       "3                                             2.01   \n",
       "4                                             2.31   \n",
       "\n",
       "   Brain_Caudate_(basal_ganglia)_NR_0_7_3  \\\n",
       "0                                    3.76   \n",
       "1                                    3.63   \n",
       "2                                    3.57   \n",
       "3                                    3.37   \n",
       "4                                    3.72   \n",
       "\n",
       "   Brain_Cerebellar_Hemisphere_NR_0_7_3  Brain_Cerebellum_NR_0_7_3  \\\n",
       "0                                 35.82                      37.19   \n",
       "1                                 31.47                      32.49   \n",
       "2                                 32.06                      32.81   \n",
       "3                                 27.19                      27.99   \n",
       "4                                 30.11                      31.01   \n",
       "\n",
       "   Brain_Frontal_Cortex_(BA9)_NR_0_7_3  \n",
       "0                                24.93  \n",
       "1                                22.33  \n",
       "2                                22.48  \n",
       "3                                19.12  \n",
       "4                                21.49  "
      ]
     },
     "execution_count": 68,
     "metadata": {},
     "output_type": "execute_result"
    }
   ],
   "source": [
    "df_t.head()"
   ]
  },
  {
   "cell_type": "code",
   "execution_count": 101,
   "metadata": {},
   "outputs": [],
   "source": [
    "df1= pd.melt(df_t,id_vars=[\"sample\"])\n",
    "df1.rename(columns = {'variable':'signature','value':'score'}, inplace = True)"
   ]
  },
  {
   "cell_type": "code",
   "execution_count": 110,
   "metadata": {},
   "outputs": [
    {
     "data": {
      "application/vnd.vegalite.v2+json": {
       "$schema": "https://vega.github.io/schema/vega-lite/v2.6.0.json",
       "config": {
        "view": {
         "height": 300,
         "width": 400
        }
       },
       "datasets": {
        "data-7f75e0212d59f5e6f749fcc7f852ab33": [
         {
          "sample": "Retina_1001LT_S11001_Ret_LT_04",
          "score": 0.02,
          "signature": "Artery_Aorta_NR_0_7_3"
         },
         {
          "sample": "Retina_1001RT_S3001_Ret_Control_04",
          "score": 0.05,
          "signature": "Artery_Aorta_NR_0_7_3"
         },
         {
          "sample": "Retina_1002LT_S27001_Ret_LT_04",
          "score": 0.02,
          "signature": "Artery_Aorta_NR_0_7_3"
         },
         {
          "sample": "Retina_1002RT_S19001_Ret_Control_04",
          "score": 0.26,
          "signature": "Artery_Aorta_NR_0_7_3"
         },
         {
          "sample": "Retina_1003LT_S41001_Ret_LT_06",
          "score": 0.04,
          "signature": "Artery_Aorta_NR_0_7_3"
         },
         {
          "sample": "Retina_1003RT_S34001_Ret_Control_06",
          "score": 0.04,
          "signature": "Artery_Aorta_NR_0_7_3"
         },
         {
          "sample": "Retina_1004LT_S54001_Ret_LT_06",
          "score": 0.02,
          "signature": "Artery_Aorta_NR_0_7_3"
         },
         {
          "sample": "Retina_1004RT_S48001_Ret_Control_06",
          "score": 0.04,
          "signature": "Artery_Aorta_NR_0_7_3"
         },
         {
          "sample": "Retina_1005LT_S12001_Ret_LT_08",
          "score": 0.07,
          "signature": "Artery_Aorta_NR_0_7_3"
         },
         {
          "sample": "Retina_1005RT_S4001_Ret_Control_08",
          "score": 0.03,
          "signature": "Artery_Aorta_NR_0_7_3"
         },
         {
          "sample": "Retina_1006LT_S28001_Ret_LT_08",
          "score": 0.06,
          "signature": "Artery_Aorta_NR_0_7_3"
         },
         {
          "sample": "Retina_1006RT_S20001_Ret_Control_08",
          "score": 0.02,
          "signature": "Artery_Aorta_NR_0_7_3"
         },
         {
          "sample": "Retina_1007LT_S42001_Ret_LT_15",
          "score": 0.02,
          "signature": "Artery_Aorta_NR_0_7_3"
         },
         {
          "sample": "Retina_1007RT_S35001_Ret_Control_15",
          "score": 0.02,
          "signature": "Artery_Aorta_NR_0_7_3"
         },
         {
          "sample": "Retina_1008LT_S55001_Ret_LT_15",
          "score": 0.02,
          "signature": "Artery_Aorta_NR_0_7_3"
         },
         {
          "sample": "Retina_1008RT_S49001_Ret_Control_15",
          "score": 0.03,
          "signature": "Artery_Aorta_NR_0_7_3"
         },
         {
          "sample": "Retina_1009LT_S13001_Ret_LT_22",
          "score": 0.02,
          "signature": "Artery_Aorta_NR_0_7_3"
         },
         {
          "sample": "Retina_1009RT_S5001_Ret_Control_22",
          "score": 0.02,
          "signature": "Artery_Aorta_NR_0_7_3"
         },
         {
          "sample": "Retina_1010LT_S29001_Ret_LT_22",
          "score": 0.11,
          "signature": "Artery_Aorta_NR_0_7_3"
         },
         {
          "sample": "Retina_1010RT_S21001_Ret_Control_22",
          "score": 0.04,
          "signature": "Artery_Aorta_NR_0_7_3"
         },
         {
          "sample": "RPE_Choroid_1001LT_S43001_RPEChor_LT_04",
          "score": 4.65,
          "signature": "Artery_Aorta_NR_0_7_3"
         },
         {
          "sample": "RPE_Choroid_1001RT_S36001_RPEChor_Control_04",
          "score": 4.63,
          "signature": "Artery_Aorta_NR_0_7_3"
         },
         {
          "sample": "RPE_Choroid_1002LT_S56001_RPEChor_LT_04",
          "score": 2.93,
          "signature": "Artery_Aorta_NR_0_7_3"
         },
         {
          "sample": "RPE_Choroid_1002RT_S50001_RPEChor_Control_04",
          "score": 3.9,
          "signature": "Artery_Aorta_NR_0_7_3"
         },
         {
          "sample": "RPE_Choroid_1003LT_S14001_RPEChor_LT_06",
          "score": 4.83,
          "signature": "Artery_Aorta_NR_0_7_3"
         },
         {
          "sample": "RPE_Choroid_1003RT_S6001_RPEChor_Control_06",
          "score": 5.17,
          "signature": "Artery_Aorta_NR_0_7_3"
         },
         {
          "sample": "RPE_Choroid_1004LT_S30001_RPEChor_LT_06",
          "score": 5.2,
          "signature": "Artery_Aorta_NR_0_7_3"
         },
         {
          "sample": "RPE_Choroid_1004RT_S22001_RPEChor_Control_06",
          "score": 5.11,
          "signature": "Artery_Aorta_NR_0_7_3"
         },
         {
          "sample": "RPE_Choroid_1005LT_S44001_RPEChor_LT_08",
          "score": 4.92,
          "signature": "Artery_Aorta_NR_0_7_3"
         },
         {
          "sample": "RPE_Choroid_1005RT_S37001_RPEChor_Control_08",
          "score": 4.57,
          "signature": "Artery_Aorta_NR_0_7_3"
         },
         {
          "sample": "RPE_Choroid_1006LT_S57001_RPEChor_LT_08",
          "score": 5.23,
          "signature": "Artery_Aorta_NR_0_7_3"
         },
         {
          "sample": "RPE_Choroid_1006RT_S51001_RPEChor_Control_08",
          "score": 5,
          "signature": "Artery_Aorta_NR_0_7_3"
         },
         {
          "sample": "RPE_Choroid_1007LT_S15001_RPEChor_LT_15",
          "score": 4.34,
          "signature": "Artery_Aorta_NR_0_7_3"
         },
         {
          "sample": "RPE_Choroid_1007RT_S7001_RPEChor_Control_15",
          "score": 3.28,
          "signature": "Artery_Aorta_NR_0_7_3"
         },
         {
          "sample": "RPE_Choroid_1008LT_S31001_RPEChor_LT_15",
          "score": 4.48,
          "signature": "Artery_Aorta_NR_0_7_3"
         },
         {
          "sample": "RPE_Choroid_1008RT_S23001_RPEChor_Control_15",
          "score": 4.59,
          "signature": "Artery_Aorta_NR_0_7_3"
         },
         {
          "sample": "RPE_Choroid_1009LT_S45001_RPEChor_LT_22",
          "score": 4.97,
          "signature": "Artery_Aorta_NR_0_7_3"
         },
         {
          "sample": "RPE_Choroid_1009RT_S38001_RPEChor_Control_22",
          "score": 5.37,
          "signature": "Artery_Aorta_NR_0_7_3"
         },
         {
          "sample": "RPE_Choroid_1010LT_S58001_RPEChor_LT_22",
          "score": 4.72,
          "signature": "Artery_Aorta_NR_0_7_3"
         },
         {
          "sample": "RPE_Choroid_1010RT_S52001_RPEChor_Control_22",
          "score": 5.03,
          "signature": "Artery_Aorta_NR_0_7_3"
         },
         {
          "sample": "Retina_1001LT_S11001_Ret_LT_04",
          "score": 0.06,
          "signature": "Artery_Coronary_NR_0_7_3"
         },
         {
          "sample": "Retina_1001RT_S3001_Ret_Control_04",
          "score": 0.11,
          "signature": "Artery_Coronary_NR_0_7_3"
         },
         {
          "sample": "Retina_1002LT_S27001_Ret_LT_04",
          "score": 0.02,
          "signature": "Artery_Coronary_NR_0_7_3"
         },
         {
          "sample": "Retina_1002RT_S19001_Ret_Control_04",
          "score": 0.26,
          "signature": "Artery_Coronary_NR_0_7_3"
         },
         {
          "sample": "Retina_1003LT_S41001_Ret_LT_06",
          "score": 0.03,
          "signature": "Artery_Coronary_NR_0_7_3"
         },
         {
          "sample": "Retina_1003RT_S34001_Ret_Control_06",
          "score": 0.07,
          "signature": "Artery_Coronary_NR_0_7_3"
         },
         {
          "sample": "Retina_1004LT_S54001_Ret_LT_06",
          "score": 0.03,
          "signature": "Artery_Coronary_NR_0_7_3"
         },
         {
          "sample": "Retina_1004RT_S48001_Ret_Control_06",
          "score": 0.04,
          "signature": "Artery_Coronary_NR_0_7_3"
         },
         {
          "sample": "Retina_1005LT_S12001_Ret_LT_08",
          "score": 0.11,
          "signature": "Artery_Coronary_NR_0_7_3"
         },
         {
          "sample": "Retina_1005RT_S4001_Ret_Control_08",
          "score": 0.03,
          "signature": "Artery_Coronary_NR_0_7_3"
         },
         {
          "sample": "Retina_1006LT_S28001_Ret_LT_08",
          "score": 0.06,
          "signature": "Artery_Coronary_NR_0_7_3"
         },
         {
          "sample": "Retina_1006RT_S20001_Ret_Control_08",
          "score": 0.04,
          "signature": "Artery_Coronary_NR_0_7_3"
         },
         {
          "sample": "Retina_1007LT_S42001_Ret_LT_15",
          "score": 0.04,
          "signature": "Artery_Coronary_NR_0_7_3"
         },
         {
          "sample": "Retina_1007RT_S35001_Ret_Control_15",
          "score": 0.05,
          "signature": "Artery_Coronary_NR_0_7_3"
         },
         {
          "sample": "Retina_1008LT_S55001_Ret_LT_15",
          "score": 0.04,
          "signature": "Artery_Coronary_NR_0_7_3"
         },
         {
          "sample": "Retina_1008RT_S49001_Ret_Control_15",
          "score": 0.04,
          "signature": "Artery_Coronary_NR_0_7_3"
         },
         {
          "sample": "Retina_1009LT_S13001_Ret_LT_22",
          "score": 0.04,
          "signature": "Artery_Coronary_NR_0_7_3"
         },
         {
          "sample": "Retina_1009RT_S5001_Ret_Control_22",
          "score": 0.03,
          "signature": "Artery_Coronary_NR_0_7_3"
         },
         {
          "sample": "Retina_1010LT_S29001_Ret_LT_22",
          "score": 0.14,
          "signature": "Artery_Coronary_NR_0_7_3"
         },
         {
          "sample": "Retina_1010RT_S21001_Ret_Control_22",
          "score": 0.05,
          "signature": "Artery_Coronary_NR_0_7_3"
         },
         {
          "sample": "RPE_Choroid_1001LT_S43001_RPEChor_LT_04",
          "score": 3.79,
          "signature": "Artery_Coronary_NR_0_7_3"
         },
         {
          "sample": "RPE_Choroid_1001RT_S36001_RPEChor_Control_04",
          "score": 3.26,
          "signature": "Artery_Coronary_NR_0_7_3"
         },
         {
          "sample": "RPE_Choroid_1002LT_S56001_RPEChor_LT_04",
          "score": 2.92,
          "signature": "Artery_Coronary_NR_0_7_3"
         },
         {
          "sample": "RPE_Choroid_1002RT_S50001_RPEChor_Control_04",
          "score": 3.36,
          "signature": "Artery_Coronary_NR_0_7_3"
         },
         {
          "sample": "RPE_Choroid_1003LT_S14001_RPEChor_LT_06",
          "score": 3.99,
          "signature": "Artery_Coronary_NR_0_7_3"
         },
         {
          "sample": "RPE_Choroid_1003RT_S6001_RPEChor_Control_06",
          "score": 3.59,
          "signature": "Artery_Coronary_NR_0_7_3"
         },
         {
          "sample": "RPE_Choroid_1004LT_S30001_RPEChor_LT_06",
          "score": 3.93,
          "signature": "Artery_Coronary_NR_0_7_3"
         },
         {
          "sample": "RPE_Choroid_1004RT_S22001_RPEChor_Control_06",
          "score": 3.56,
          "signature": "Artery_Coronary_NR_0_7_3"
         },
         {
          "sample": "RPE_Choroid_1005LT_S44001_RPEChor_LT_08",
          "score": 3.76,
          "signature": "Artery_Coronary_NR_0_7_3"
         },
         {
          "sample": "RPE_Choroid_1005RT_S37001_RPEChor_Control_08",
          "score": 3.54,
          "signature": "Artery_Coronary_NR_0_7_3"
         },
         {
          "sample": "RPE_Choroid_1006LT_S57001_RPEChor_LT_08",
          "score": 4.13,
          "signature": "Artery_Coronary_NR_0_7_3"
         },
         {
          "sample": "RPE_Choroid_1006RT_S51001_RPEChor_Control_08",
          "score": 4.24,
          "signature": "Artery_Coronary_NR_0_7_3"
         },
         {
          "sample": "RPE_Choroid_1007LT_S15001_RPEChor_LT_15",
          "score": 3.46,
          "signature": "Artery_Coronary_NR_0_7_3"
         },
         {
          "sample": "RPE_Choroid_1007RT_S7001_RPEChor_Control_15",
          "score": 2.93,
          "signature": "Artery_Coronary_NR_0_7_3"
         },
         {
          "sample": "RPE_Choroid_1008LT_S31001_RPEChor_LT_15",
          "score": 3.52,
          "signature": "Artery_Coronary_NR_0_7_3"
         },
         {
          "sample": "RPE_Choroid_1008RT_S23001_RPEChor_Control_15",
          "score": 3.42,
          "signature": "Artery_Coronary_NR_0_7_3"
         },
         {
          "sample": "RPE_Choroid_1009LT_S45001_RPEChor_LT_22",
          "score": 3.37,
          "signature": "Artery_Coronary_NR_0_7_3"
         },
         {
          "sample": "RPE_Choroid_1009RT_S38001_RPEChor_Control_22",
          "score": 3.73,
          "signature": "Artery_Coronary_NR_0_7_3"
         },
         {
          "sample": "RPE_Choroid_1010LT_S58001_RPEChor_LT_22",
          "score": 3.57,
          "signature": "Artery_Coronary_NR_0_7_3"
         },
         {
          "sample": "RPE_Choroid_1010RT_S52001_RPEChor_Control_22",
          "score": 3.87,
          "signature": "Artery_Coronary_NR_0_7_3"
         },
         {
          "sample": "Retina_1001LT_S11001_Ret_LT_04",
          "score": 0.18,
          "signature": "Artery_Tibial_NR_0_7_3"
         },
         {
          "sample": "Retina_1001RT_S3001_Ret_Control_04",
          "score": 0.18,
          "signature": "Artery_Tibial_NR_0_7_3"
         },
         {
          "sample": "Retina_1002LT_S27001_Ret_LT_04",
          "score": 0.18,
          "signature": "Artery_Tibial_NR_0_7_3"
         },
         {
          "sample": "Retina_1002RT_S19001_Ret_Control_04",
          "score": 0.29,
          "signature": "Artery_Tibial_NR_0_7_3"
         },
         {
          "sample": "Retina_1003LT_S41001_Ret_LT_06",
          "score": 0.25,
          "signature": "Artery_Tibial_NR_0_7_3"
         },
         {
          "sample": "Retina_1003RT_S34001_Ret_Control_06",
          "score": 0.24,
          "signature": "Artery_Tibial_NR_0_7_3"
         },
         {
          "sample": "Retina_1004LT_S54001_Ret_LT_06",
          "score": 0.24,
          "signature": "Artery_Tibial_NR_0_7_3"
         },
         {
          "sample": "Retina_1004RT_S48001_Ret_Control_06",
          "score": 0.26,
          "signature": "Artery_Tibial_NR_0_7_3"
         },
         {
          "sample": "Retina_1005LT_S12001_Ret_LT_08",
          "score": 0.2,
          "signature": "Artery_Tibial_NR_0_7_3"
         },
         {
          "sample": "Retina_1005RT_S4001_Ret_Control_08",
          "score": 0.24,
          "signature": "Artery_Tibial_NR_0_7_3"
         },
         {
          "sample": "Retina_1006LT_S28001_Ret_LT_08",
          "score": 0.28,
          "signature": "Artery_Tibial_NR_0_7_3"
         },
         {
          "sample": "Retina_1006RT_S20001_Ret_Control_08",
          "score": 0.23,
          "signature": "Artery_Tibial_NR_0_7_3"
         },
         {
          "sample": "Retina_1007LT_S42001_Ret_LT_15",
          "score": 0.17,
          "signature": "Artery_Tibial_NR_0_7_3"
         },
         {
          "sample": "Retina_1007RT_S35001_Ret_Control_15",
          "score": 0.15,
          "signature": "Artery_Tibial_NR_0_7_3"
         },
         {
          "sample": "Retina_1008LT_S55001_Ret_LT_15",
          "score": 0.22,
          "signature": "Artery_Tibial_NR_0_7_3"
         },
         {
          "sample": "Retina_1008RT_S49001_Ret_Control_15",
          "score": 0.24,
          "signature": "Artery_Tibial_NR_0_7_3"
         },
         {
          "sample": "Retina_1009LT_S13001_Ret_LT_22",
          "score": 0.23,
          "signature": "Artery_Tibial_NR_0_7_3"
         },
         {
          "sample": "Retina_1009RT_S5001_Ret_Control_22",
          "score": 0.18,
          "signature": "Artery_Tibial_NR_0_7_3"
         },
         {
          "sample": "Retina_1010LT_S29001_Ret_LT_22",
          "score": 0.37,
          "signature": "Artery_Tibial_NR_0_7_3"
         },
         {
          "sample": "Retina_1010RT_S21001_Ret_Control_22",
          "score": 0.32,
          "signature": "Artery_Tibial_NR_0_7_3"
         },
         {
          "sample": "RPE_Choroid_1001LT_S43001_RPEChor_LT_04",
          "score": 3.21,
          "signature": "Artery_Tibial_NR_0_7_3"
         },
         {
          "sample": "RPE_Choroid_1001RT_S36001_RPEChor_Control_04",
          "score": 2.82,
          "signature": "Artery_Tibial_NR_0_7_3"
         },
         {
          "sample": "RPE_Choroid_1002LT_S56001_RPEChor_LT_04",
          "score": 2.72,
          "signature": "Artery_Tibial_NR_0_7_3"
         },
         {
          "sample": "RPE_Choroid_1002RT_S50001_RPEChor_Control_04",
          "score": 3.02,
          "signature": "Artery_Tibial_NR_0_7_3"
         },
         {
          "sample": "RPE_Choroid_1003LT_S14001_RPEChor_LT_06",
          "score": 2.81,
          "signature": "Artery_Tibial_NR_0_7_3"
         },
         {
          "sample": "RPE_Choroid_1003RT_S6001_RPEChor_Control_06",
          "score": 3.47,
          "signature": "Artery_Tibial_NR_0_7_3"
         },
         {
          "sample": "RPE_Choroid_1004LT_S30001_RPEChor_LT_06",
          "score": 3.42,
          "signature": "Artery_Tibial_NR_0_7_3"
         },
         {
          "sample": "RPE_Choroid_1004RT_S22001_RPEChor_Control_06",
          "score": 2.75,
          "signature": "Artery_Tibial_NR_0_7_3"
         },
         {
          "sample": "RPE_Choroid_1005LT_S44001_RPEChor_LT_08",
          "score": 2.57,
          "signature": "Artery_Tibial_NR_0_7_3"
         },
         {
          "sample": "RPE_Choroid_1005RT_S37001_RPEChor_Control_08",
          "score": 2.85,
          "signature": "Artery_Tibial_NR_0_7_3"
         },
         {
          "sample": "RPE_Choroid_1006LT_S57001_RPEChor_LT_08",
          "score": 3.38,
          "signature": "Artery_Tibial_NR_0_7_3"
         },
         {
          "sample": "RPE_Choroid_1006RT_S51001_RPEChor_Control_08",
          "score": 3,
          "signature": "Artery_Tibial_NR_0_7_3"
         },
         {
          "sample": "RPE_Choroid_1007LT_S15001_RPEChor_LT_15",
          "score": 3.15,
          "signature": "Artery_Tibial_NR_0_7_3"
         },
         {
          "sample": "RPE_Choroid_1007RT_S7001_RPEChor_Control_15",
          "score": 2.56,
          "signature": "Artery_Tibial_NR_0_7_3"
         },
         {
          "sample": "RPE_Choroid_1008LT_S31001_RPEChor_LT_15",
          "score": 2.79,
          "signature": "Artery_Tibial_NR_0_7_3"
         },
         {
          "sample": "RPE_Choroid_1008RT_S23001_RPEChor_Control_15",
          "score": 3.03,
          "signature": "Artery_Tibial_NR_0_7_3"
         },
         {
          "sample": "RPE_Choroid_1009LT_S45001_RPEChor_LT_22",
          "score": 3.6,
          "signature": "Artery_Tibial_NR_0_7_3"
         },
         {
          "sample": "RPE_Choroid_1009RT_S38001_RPEChor_Control_22",
          "score": 3.49,
          "signature": "Artery_Tibial_NR_0_7_3"
         },
         {
          "sample": "RPE_Choroid_1010LT_S58001_RPEChor_LT_22",
          "score": 3.22,
          "signature": "Artery_Tibial_NR_0_7_3"
         },
         {
          "sample": "RPE_Choroid_1010RT_S52001_RPEChor_Control_22",
          "score": 3.15,
          "signature": "Artery_Tibial_NR_0_7_3"
         },
         {
          "sample": "Retina_1001LT_S11001_Ret_LT_04",
          "score": 9.07,
          "signature": "Brain_Amygdala_NR_0_7_3"
         },
         {
          "sample": "Retina_1001RT_S3001_Ret_Control_04",
          "score": 8.25,
          "signature": "Brain_Amygdala_NR_0_7_3"
         },
         {
          "sample": "Retina_1002LT_S27001_Ret_LT_04",
          "score": 8.27,
          "signature": "Brain_Amygdala_NR_0_7_3"
         },
         {
          "sample": "Retina_1002RT_S19001_Ret_Control_04",
          "score": 6.98,
          "signature": "Brain_Amygdala_NR_0_7_3"
         },
         {
          "sample": "Retina_1003LT_S41001_Ret_LT_06",
          "score": 7.97,
          "signature": "Brain_Amygdala_NR_0_7_3"
         },
         {
          "sample": "Retina_1003RT_S34001_Ret_Control_06",
          "score": 8.37,
          "signature": "Brain_Amygdala_NR_0_7_3"
         },
         {
          "sample": "Retina_1004LT_S54001_Ret_LT_06",
          "score": 8.24,
          "signature": "Brain_Amygdala_NR_0_7_3"
         },
         {
          "sample": "Retina_1004RT_S48001_Ret_Control_06",
          "score": 8.89,
          "signature": "Brain_Amygdala_NR_0_7_3"
         },
         {
          "sample": "Retina_1005LT_S12001_Ret_LT_08",
          "score": 8.71,
          "signature": "Brain_Amygdala_NR_0_7_3"
         },
         {
          "sample": "Retina_1005RT_S4001_Ret_Control_08",
          "score": 9.49,
          "signature": "Brain_Amygdala_NR_0_7_3"
         },
         {
          "sample": "Retina_1006LT_S28001_Ret_LT_08",
          "score": 9.51,
          "signature": "Brain_Amygdala_NR_0_7_3"
         },
         {
          "sample": "Retina_1006RT_S20001_Ret_Control_08",
          "score": 7.82,
          "signature": "Brain_Amygdala_NR_0_7_3"
         },
         {
          "sample": "Retina_1007LT_S42001_Ret_LT_15",
          "score": 9.15,
          "signature": "Brain_Amygdala_NR_0_7_3"
         },
         {
          "sample": "Retina_1007RT_S35001_Ret_Control_15",
          "score": 9.21,
          "signature": "Brain_Amygdala_NR_0_7_3"
         },
         {
          "sample": "Retina_1008LT_S55001_Ret_LT_15",
          "score": 8.48,
          "signature": "Brain_Amygdala_NR_0_7_3"
         },
         {
          "sample": "Retina_1008RT_S49001_Ret_Control_15",
          "score": 8.45,
          "signature": "Brain_Amygdala_NR_0_7_3"
         },
         {
          "sample": "Retina_1009LT_S13001_Ret_LT_22",
          "score": 9.4,
          "signature": "Brain_Amygdala_NR_0_7_3"
         },
         {
          "sample": "Retina_1009RT_S5001_Ret_Control_22",
          "score": 8.17,
          "signature": "Brain_Amygdala_NR_0_7_3"
         },
         {
          "sample": "Retina_1010LT_S29001_Ret_LT_22",
          "score": 8.23,
          "signature": "Brain_Amygdala_NR_0_7_3"
         },
         {
          "sample": "Retina_1010RT_S21001_Ret_Control_22",
          "score": 9.04,
          "signature": "Brain_Amygdala_NR_0_7_3"
         },
         {
          "sample": "RPE_Choroid_1001LT_S43001_RPEChor_LT_04",
          "score": 1.57,
          "signature": "Brain_Amygdala_NR_0_7_3"
         },
         {
          "sample": "RPE_Choroid_1001RT_S36001_RPEChor_Control_04",
          "score": 1.39,
          "signature": "Brain_Amygdala_NR_0_7_3"
         },
         {
          "sample": "RPE_Choroid_1002LT_S56001_RPEChor_LT_04",
          "score": 2.27,
          "signature": "Brain_Amygdala_NR_0_7_3"
         },
         {
          "sample": "RPE_Choroid_1002RT_S50001_RPEChor_Control_04",
          "score": 1.21,
          "signature": "Brain_Amygdala_NR_0_7_3"
         },
         {
          "sample": "RPE_Choroid_1003LT_S14001_RPEChor_LT_06",
          "score": 0.46,
          "signature": "Brain_Amygdala_NR_0_7_3"
         },
         {
          "sample": "RPE_Choroid_1003RT_S6001_RPEChor_Control_06",
          "score": 0.53,
          "signature": "Brain_Amygdala_NR_0_7_3"
         },
         {
          "sample": "RPE_Choroid_1004LT_S30001_RPEChor_LT_06",
          "score": 0.08,
          "signature": "Brain_Amygdala_NR_0_7_3"
         },
         {
          "sample": "RPE_Choroid_1004RT_S22001_RPEChor_Control_06",
          "score": 0.07,
          "signature": "Brain_Amygdala_NR_0_7_3"
         },
         {
          "sample": "RPE_Choroid_1005LT_S44001_RPEChor_LT_08",
          "score": 0.07,
          "signature": "Brain_Amygdala_NR_0_7_3"
         },
         {
          "sample": "RPE_Choroid_1005RT_S37001_RPEChor_Control_08",
          "score": 0.7,
          "signature": "Brain_Amygdala_NR_0_7_3"
         },
         {
          "sample": "RPE_Choroid_1006LT_S57001_RPEChor_LT_08",
          "score": 0.36,
          "signature": "Brain_Amygdala_NR_0_7_3"
         },
         {
          "sample": "RPE_Choroid_1006RT_S51001_RPEChor_Control_08",
          "score": 0.14,
          "signature": "Brain_Amygdala_NR_0_7_3"
         },
         {
          "sample": "RPE_Choroid_1007LT_S15001_RPEChor_LT_15",
          "score": 1.89,
          "signature": "Brain_Amygdala_NR_0_7_3"
         },
         {
          "sample": "RPE_Choroid_1007RT_S7001_RPEChor_Control_15",
          "score": 3.34,
          "signature": "Brain_Amygdala_NR_0_7_3"
         },
         {
          "sample": "RPE_Choroid_1008LT_S31001_RPEChor_LT_15",
          "score": 0.82,
          "signature": "Brain_Amygdala_NR_0_7_3"
         },
         {
          "sample": "RPE_Choroid_1008RT_S23001_RPEChor_Control_15",
          "score": 0.69,
          "signature": "Brain_Amygdala_NR_0_7_3"
         },
         {
          "sample": "RPE_Choroid_1009LT_S45001_RPEChor_LT_22",
          "score": 1.23,
          "signature": "Brain_Amygdala_NR_0_7_3"
         },
         {
          "sample": "RPE_Choroid_1009RT_S38001_RPEChor_Control_22",
          "score": 0.18,
          "signature": "Brain_Amygdala_NR_0_7_3"
         },
         {
          "sample": "RPE_Choroid_1010LT_S58001_RPEChor_LT_22",
          "score": 0.7,
          "signature": "Brain_Amygdala_NR_0_7_3"
         },
         {
          "sample": "RPE_Choroid_1010RT_S52001_RPEChor_Control_22",
          "score": 0.28,
          "signature": "Brain_Amygdala_NR_0_7_3"
         },
         {
          "sample": "Retina_1001LT_S11001_Ret_LT_04",
          "score": 2.53,
          "signature": "Brain_Anterior_cingulate_cortex_(BA24)_NR_0_7_3"
         },
         {
          "sample": "Retina_1001RT_S3001_Ret_Control_04",
          "score": 2.31,
          "signature": "Brain_Anterior_cingulate_cortex_(BA24)_NR_0_7_3"
         },
         {
          "sample": "Retina_1002LT_S27001_Ret_LT_04",
          "score": 2.29,
          "signature": "Brain_Anterior_cingulate_cortex_(BA24)_NR_0_7_3"
         },
         {
          "sample": "Retina_1002RT_S19001_Ret_Control_04",
          "score": 2.01,
          "signature": "Brain_Anterior_cingulate_cortex_(BA24)_NR_0_7_3"
         },
         {
          "sample": "Retina_1003LT_S41001_Ret_LT_06",
          "score": 2.31,
          "signature": "Brain_Anterior_cingulate_cortex_(BA24)_NR_0_7_3"
         },
         {
          "sample": "Retina_1003RT_S34001_Ret_Control_06",
          "score": 2.33,
          "signature": "Brain_Anterior_cingulate_cortex_(BA24)_NR_0_7_3"
         },
         {
          "sample": "Retina_1004LT_S54001_Ret_LT_06",
          "score": 2.14,
          "signature": "Brain_Anterior_cingulate_cortex_(BA24)_NR_0_7_3"
         },
         {
          "sample": "Retina_1004RT_S48001_Ret_Control_06",
          "score": 2.47,
          "signature": "Brain_Anterior_cingulate_cortex_(BA24)_NR_0_7_3"
         },
         {
          "sample": "Retina_1005LT_S12001_Ret_LT_08",
          "score": 2.17,
          "signature": "Brain_Anterior_cingulate_cortex_(BA24)_NR_0_7_3"
         },
         {
          "sample": "Retina_1005RT_S4001_Ret_Control_08",
          "score": 2.37,
          "signature": "Brain_Anterior_cingulate_cortex_(BA24)_NR_0_7_3"
         },
         {
          "sample": "Retina_1006LT_S28001_Ret_LT_08",
          "score": 2.38,
          "signature": "Brain_Anterior_cingulate_cortex_(BA24)_NR_0_7_3"
         },
         {
          "sample": "Retina_1006RT_S20001_Ret_Control_08",
          "score": 1.99,
          "signature": "Brain_Anterior_cingulate_cortex_(BA24)_NR_0_7_3"
         },
         {
          "sample": "Retina_1007LT_S42001_Ret_LT_15",
          "score": 2.25,
          "signature": "Brain_Anterior_cingulate_cortex_(BA24)_NR_0_7_3"
         },
         {
          "sample": "Retina_1007RT_S35001_Ret_Control_15",
          "score": 2.26,
          "signature": "Brain_Anterior_cingulate_cortex_(BA24)_NR_0_7_3"
         },
         {
          "sample": "Retina_1008LT_S55001_Ret_LT_15",
          "score": 2.26,
          "signature": "Brain_Anterior_cingulate_cortex_(BA24)_NR_0_7_3"
         },
         {
          "sample": "Retina_1008RT_S49001_Ret_Control_15",
          "score": 2.33,
          "signature": "Brain_Anterior_cingulate_cortex_(BA24)_NR_0_7_3"
         },
         {
          "sample": "Retina_1009LT_S13001_Ret_LT_22",
          "score": 2.39,
          "signature": "Brain_Anterior_cingulate_cortex_(BA24)_NR_0_7_3"
         },
         {
          "sample": "Retina_1009RT_S5001_Ret_Control_22",
          "score": 2.23,
          "signature": "Brain_Anterior_cingulate_cortex_(BA24)_NR_0_7_3"
         },
         {
          "sample": "Retina_1010LT_S29001_Ret_LT_22",
          "score": 2.3,
          "signature": "Brain_Anterior_cingulate_cortex_(BA24)_NR_0_7_3"
         },
         {
          "sample": "Retina_1010RT_S21001_Ret_Control_22",
          "score": 2.48,
          "signature": "Brain_Anterior_cingulate_cortex_(BA24)_NR_0_7_3"
         },
         {
          "sample": "RPE_Choroid_1001LT_S43001_RPEChor_LT_04",
          "score": 0.97,
          "signature": "Brain_Anterior_cingulate_cortex_(BA24)_NR_0_7_3"
         },
         {
          "sample": "RPE_Choroid_1001RT_S36001_RPEChor_Control_04",
          "score": 0.95,
          "signature": "Brain_Anterior_cingulate_cortex_(BA24)_NR_0_7_3"
         },
         {
          "sample": "RPE_Choroid_1002LT_S56001_RPEChor_LT_04",
          "score": 1.15,
          "signature": "Brain_Anterior_cingulate_cortex_(BA24)_NR_0_7_3"
         },
         {
          "sample": "RPE_Choroid_1002RT_S50001_RPEChor_Control_04",
          "score": 0.72,
          "signature": "Brain_Anterior_cingulate_cortex_(BA24)_NR_0_7_3"
         },
         {
          "sample": "RPE_Choroid_1003LT_S14001_RPEChor_LT_06",
          "score": 0.53,
          "signature": "Brain_Anterior_cingulate_cortex_(BA24)_NR_0_7_3"
         },
         {
          "sample": "RPE_Choroid_1003RT_S6001_RPEChor_Control_06",
          "score": 0.42,
          "signature": "Brain_Anterior_cingulate_cortex_(BA24)_NR_0_7_3"
         },
         {
          "sample": "RPE_Choroid_1004LT_S30001_RPEChor_LT_06",
          "score": 0.28,
          "signature": "Brain_Anterior_cingulate_cortex_(BA24)_NR_0_7_3"
         },
         {
          "sample": "RPE_Choroid_1004RT_S22001_RPEChor_Control_06",
          "score": 0.36,
          "signature": "Brain_Anterior_cingulate_cortex_(BA24)_NR_0_7_3"
         },
         {
          "sample": "RPE_Choroid_1005LT_S44001_RPEChor_LT_08",
          "score": 0.26,
          "signature": "Brain_Anterior_cingulate_cortex_(BA24)_NR_0_7_3"
         },
         {
          "sample": "RPE_Choroid_1005RT_S37001_RPEChor_Control_08",
          "score": 0.65,
          "signature": "Brain_Anterior_cingulate_cortex_(BA24)_NR_0_7_3"
         },
         {
          "sample": "RPE_Choroid_1006LT_S57001_RPEChor_LT_08",
          "score": 0.35,
          "signature": "Brain_Anterior_cingulate_cortex_(BA24)_NR_0_7_3"
         },
         {
          "sample": "RPE_Choroid_1006RT_S51001_RPEChor_Control_08",
          "score": 0.25,
          "signature": "Brain_Anterior_cingulate_cortex_(BA24)_NR_0_7_3"
         },
         {
          "sample": "RPE_Choroid_1007LT_S15001_RPEChor_LT_15",
          "score": 0.82,
          "signature": "Brain_Anterior_cingulate_cortex_(BA24)_NR_0_7_3"
         },
         {
          "sample": "RPE_Choroid_1007RT_S7001_RPEChor_Control_15",
          "score": 1.23,
          "signature": "Brain_Anterior_cingulate_cortex_(BA24)_NR_0_7_3"
         },
         {
          "sample": "RPE_Choroid_1008LT_S31001_RPEChor_LT_15",
          "score": 0.78,
          "signature": "Brain_Anterior_cingulate_cortex_(BA24)_NR_0_7_3"
         },
         {
          "sample": "RPE_Choroid_1008RT_S23001_RPEChor_Control_15",
          "score": 0.57,
          "signature": "Brain_Anterior_cingulate_cortex_(BA24)_NR_0_7_3"
         },
         {
          "sample": "RPE_Choroid_1009LT_S45001_RPEChor_LT_22",
          "score": 0.76,
          "signature": "Brain_Anterior_cingulate_cortex_(BA24)_NR_0_7_3"
         },
         {
          "sample": "RPE_Choroid_1009RT_S38001_RPEChor_Control_22",
          "score": 0.41,
          "signature": "Brain_Anterior_cingulate_cortex_(BA24)_NR_0_7_3"
         },
         {
          "sample": "RPE_Choroid_1010LT_S58001_RPEChor_LT_22",
          "score": 0.56,
          "signature": "Brain_Anterior_cingulate_cortex_(BA24)_NR_0_7_3"
         },
         {
          "sample": "RPE_Choroid_1010RT_S52001_RPEChor_Control_22",
          "score": 0.34,
          "signature": "Brain_Anterior_cingulate_cortex_(BA24)_NR_0_7_3"
         },
         {
          "sample": "Retina_1001LT_S11001_Ret_LT_04",
          "score": 3.76,
          "signature": "Brain_Caudate_(basal_ganglia)_NR_0_7_3"
         },
         {
          "sample": "Retina_1001RT_S3001_Ret_Control_04",
          "score": 3.63,
          "signature": "Brain_Caudate_(basal_ganglia)_NR_0_7_3"
         },
         {
          "sample": "Retina_1002LT_S27001_Ret_LT_04",
          "score": 3.57,
          "signature": "Brain_Caudate_(basal_ganglia)_NR_0_7_3"
         },
         {
          "sample": "Retina_1002RT_S19001_Ret_Control_04",
          "score": 3.37,
          "signature": "Brain_Caudate_(basal_ganglia)_NR_0_7_3"
         },
         {
          "sample": "Retina_1003LT_S41001_Ret_LT_06",
          "score": 3.72,
          "signature": "Brain_Caudate_(basal_ganglia)_NR_0_7_3"
         },
         {
          "sample": "Retina_1003RT_S34001_Ret_Control_06",
          "score": 3.88,
          "signature": "Brain_Caudate_(basal_ganglia)_NR_0_7_3"
         },
         {
          "sample": "Retina_1004LT_S54001_Ret_LT_06",
          "score": 3.66,
          "signature": "Brain_Caudate_(basal_ganglia)_NR_0_7_3"
         },
         {
          "sample": "Retina_1004RT_S48001_Ret_Control_06",
          "score": 3.89,
          "signature": "Brain_Caudate_(basal_ganglia)_NR_0_7_3"
         },
         {
          "sample": "Retina_1005LT_S12001_Ret_LT_08",
          "score": 3.55,
          "signature": "Brain_Caudate_(basal_ganglia)_NR_0_7_3"
         },
         {
          "sample": "Retina_1005RT_S4001_Ret_Control_08",
          "score": 3.78,
          "signature": "Brain_Caudate_(basal_ganglia)_NR_0_7_3"
         },
         {
          "sample": "Retina_1006LT_S28001_Ret_LT_08",
          "score": 4.25,
          "signature": "Brain_Caudate_(basal_ganglia)_NR_0_7_3"
         },
         {
          "sample": "Retina_1006RT_S20001_Ret_Control_08",
          "score": 3.64,
          "signature": "Brain_Caudate_(basal_ganglia)_NR_0_7_3"
         },
         {
          "sample": "Retina_1007LT_S42001_Ret_LT_15",
          "score": 3.62,
          "signature": "Brain_Caudate_(basal_ganglia)_NR_0_7_3"
         },
         {
          "sample": "Retina_1007RT_S35001_Ret_Control_15",
          "score": 3.68,
          "signature": "Brain_Caudate_(basal_ganglia)_NR_0_7_3"
         },
         {
          "sample": "Retina_1008LT_S55001_Ret_LT_15",
          "score": 3.74,
          "signature": "Brain_Caudate_(basal_ganglia)_NR_0_7_3"
         },
         {
          "sample": "Retina_1008RT_S49001_Ret_Control_15",
          "score": 3.63,
          "signature": "Brain_Caudate_(basal_ganglia)_NR_0_7_3"
         },
         {
          "sample": "Retina_1009LT_S13001_Ret_LT_22",
          "score": 3.9,
          "signature": "Brain_Caudate_(basal_ganglia)_NR_0_7_3"
         },
         {
          "sample": "Retina_1009RT_S5001_Ret_Control_22",
          "score": 3.62,
          "signature": "Brain_Caudate_(basal_ganglia)_NR_0_7_3"
         },
         {
          "sample": "Retina_1010LT_S29001_Ret_LT_22",
          "score": 3.9,
          "signature": "Brain_Caudate_(basal_ganglia)_NR_0_7_3"
         },
         {
          "sample": "Retina_1010RT_S21001_Ret_Control_22",
          "score": 3.9,
          "signature": "Brain_Caudate_(basal_ganglia)_NR_0_7_3"
         },
         {
          "sample": "RPE_Choroid_1001LT_S43001_RPEChor_LT_04",
          "score": 1.06,
          "signature": "Brain_Caudate_(basal_ganglia)_NR_0_7_3"
         },
         {
          "sample": "RPE_Choroid_1001RT_S36001_RPEChor_Control_04",
          "score": 1.24,
          "signature": "Brain_Caudate_(basal_ganglia)_NR_0_7_3"
         },
         {
          "sample": "RPE_Choroid_1002LT_S56001_RPEChor_LT_04",
          "score": 1.41,
          "signature": "Brain_Caudate_(basal_ganglia)_NR_0_7_3"
         },
         {
          "sample": "RPE_Choroid_1002RT_S50001_RPEChor_Control_04",
          "score": 1.01,
          "signature": "Brain_Caudate_(basal_ganglia)_NR_0_7_3"
         },
         {
          "sample": "RPE_Choroid_1003LT_S14001_RPEChor_LT_06",
          "score": 0.64,
          "signature": "Brain_Caudate_(basal_ganglia)_NR_0_7_3"
         },
         {
          "sample": "RPE_Choroid_1003RT_S6001_RPEChor_Control_06",
          "score": 0.34,
          "signature": "Brain_Caudate_(basal_ganglia)_NR_0_7_3"
         },
         {
          "sample": "RPE_Choroid_1004LT_S30001_RPEChor_LT_06",
          "score": 0.12,
          "signature": "Brain_Caudate_(basal_ganglia)_NR_0_7_3"
         },
         {
          "sample": "RPE_Choroid_1004RT_S22001_RPEChor_Control_06",
          "score": 0.15,
          "signature": "Brain_Caudate_(basal_ganglia)_NR_0_7_3"
         },
         {
          "sample": "RPE_Choroid_1005LT_S44001_RPEChor_LT_08",
          "score": 0.12,
          "signature": "Brain_Caudate_(basal_ganglia)_NR_0_7_3"
         },
         {
          "sample": "RPE_Choroid_1005RT_S37001_RPEChor_Control_08",
          "score": 0.58,
          "signature": "Brain_Caudate_(basal_ganglia)_NR_0_7_3"
         },
         {
          "sample": "RPE_Choroid_1006LT_S57001_RPEChor_LT_08",
          "score": 0.45,
          "signature": "Brain_Caudate_(basal_ganglia)_NR_0_7_3"
         },
         {
          "sample": "RPE_Choroid_1006RT_S51001_RPEChor_Control_08",
          "score": 0.24,
          "signature": "Brain_Caudate_(basal_ganglia)_NR_0_7_3"
         },
         {
          "sample": "RPE_Choroid_1007LT_S15001_RPEChor_LT_15",
          "score": 1.04,
          "signature": "Brain_Caudate_(basal_ganglia)_NR_0_7_3"
         },
         {
          "sample": "RPE_Choroid_1007RT_S7001_RPEChor_Control_15",
          "score": 1.89,
          "signature": "Brain_Caudate_(basal_ganglia)_NR_0_7_3"
         },
         {
          "sample": "RPE_Choroid_1008LT_S31001_RPEChor_LT_15",
          "score": 0.87,
          "signature": "Brain_Caudate_(basal_ganglia)_NR_0_7_3"
         },
         {
          "sample": "RPE_Choroid_1008RT_S23001_RPEChor_Control_15",
          "score": 0.56,
          "signature": "Brain_Caudate_(basal_ganglia)_NR_0_7_3"
         },
         {
          "sample": "RPE_Choroid_1009LT_S45001_RPEChor_LT_22",
          "score": 0.99,
          "signature": "Brain_Caudate_(basal_ganglia)_NR_0_7_3"
         },
         {
          "sample": "RPE_Choroid_1009RT_S38001_RPEChor_Control_22",
          "score": 0.43,
          "signature": "Brain_Caudate_(basal_ganglia)_NR_0_7_3"
         },
         {
          "sample": "RPE_Choroid_1010LT_S58001_RPEChor_LT_22",
          "score": 0.61,
          "signature": "Brain_Caudate_(basal_ganglia)_NR_0_7_3"
         },
         {
          "sample": "RPE_Choroid_1010RT_S52001_RPEChor_Control_22",
          "score": 0.36,
          "signature": "Brain_Caudate_(basal_ganglia)_NR_0_7_3"
         },
         {
          "sample": "Retina_1001LT_S11001_Ret_LT_04",
          "score": 35.82,
          "signature": "Brain_Cerebellar_Hemisphere_NR_0_7_3"
         },
         {
          "sample": "Retina_1001RT_S3001_Ret_Control_04",
          "score": 31.47,
          "signature": "Brain_Cerebellar_Hemisphere_NR_0_7_3"
         },
         {
          "sample": "Retina_1002LT_S27001_Ret_LT_04",
          "score": 32.06,
          "signature": "Brain_Cerebellar_Hemisphere_NR_0_7_3"
         },
         {
          "sample": "Retina_1002RT_S19001_Ret_Control_04",
          "score": 27.19,
          "signature": "Brain_Cerebellar_Hemisphere_NR_0_7_3"
         },
         {
          "sample": "Retina_1003LT_S41001_Ret_LT_06",
          "score": 30.11,
          "signature": "Brain_Cerebellar_Hemisphere_NR_0_7_3"
         },
         {
          "sample": "Retina_1003RT_S34001_Ret_Control_06",
          "score": 30.27,
          "signature": "Brain_Cerebellar_Hemisphere_NR_0_7_3"
         },
         {
          "sample": "Retina_1004LT_S54001_Ret_LT_06",
          "score": 30.7,
          "signature": "Brain_Cerebellar_Hemisphere_NR_0_7_3"
         },
         {
          "sample": "Retina_1004RT_S48001_Ret_Control_06",
          "score": 34.49,
          "signature": "Brain_Cerebellar_Hemisphere_NR_0_7_3"
         },
         {
          "sample": "Retina_1005LT_S12001_Ret_LT_08",
          "score": 32.05,
          "signature": "Brain_Cerebellar_Hemisphere_NR_0_7_3"
         },
         {
          "sample": "Retina_1005RT_S4001_Ret_Control_08",
          "score": 34.56,
          "signature": "Brain_Cerebellar_Hemisphere_NR_0_7_3"
         },
         {
          "sample": "Retina_1006LT_S28001_Ret_LT_08",
          "score": 34.95,
          "signature": "Brain_Cerebellar_Hemisphere_NR_0_7_3"
         },
         {
          "sample": "Retina_1006RT_S20001_Ret_Control_08",
          "score": 29.08,
          "signature": "Brain_Cerebellar_Hemisphere_NR_0_7_3"
         },
         {
          "sample": "Retina_1007LT_S42001_Ret_LT_15",
          "score": 33.25,
          "signature": "Brain_Cerebellar_Hemisphere_NR_0_7_3"
         },
         {
          "sample": "Retina_1007RT_S35001_Ret_Control_15",
          "score": 33.07,
          "signature": "Brain_Cerebellar_Hemisphere_NR_0_7_3"
         },
         {
          "sample": "Retina_1008LT_S55001_Ret_LT_15",
          "score": 31.99,
          "signature": "Brain_Cerebellar_Hemisphere_NR_0_7_3"
         },
         {
          "sample": "Retina_1008RT_S49001_Ret_Control_15",
          "score": 31.09,
          "signature": "Brain_Cerebellar_Hemisphere_NR_0_7_3"
         },
         {
          "sample": "Retina_1009LT_S13001_Ret_LT_22",
          "score": 36.03,
          "signature": "Brain_Cerebellar_Hemisphere_NR_0_7_3"
         },
         {
          "sample": "Retina_1009RT_S5001_Ret_Control_22",
          "score": 30.88,
          "signature": "Brain_Cerebellar_Hemisphere_NR_0_7_3"
         },
         {
          "sample": "Retina_1010LT_S29001_Ret_LT_22",
          "score": 30.84,
          "signature": "Brain_Cerebellar_Hemisphere_NR_0_7_3"
         },
         {
          "sample": "Retina_1010RT_S21001_Ret_Control_22",
          "score": 34.28,
          "signature": "Brain_Cerebellar_Hemisphere_NR_0_7_3"
         },
         {
          "sample": "RPE_Choroid_1001LT_S43001_RPEChor_LT_04",
          "score": 4.1,
          "signature": "Brain_Cerebellar_Hemisphere_NR_0_7_3"
         },
         {
          "sample": "RPE_Choroid_1001RT_S36001_RPEChor_Control_04",
          "score": 3.93,
          "signature": "Brain_Cerebellar_Hemisphere_NR_0_7_3"
         },
         {
          "sample": "RPE_Choroid_1002LT_S56001_RPEChor_LT_04",
          "score": 7.93,
          "signature": "Brain_Cerebellar_Hemisphere_NR_0_7_3"
         },
         {
          "sample": "RPE_Choroid_1002RT_S50001_RPEChor_Control_04",
          "score": 3.27,
          "signature": "Brain_Cerebellar_Hemisphere_NR_0_7_3"
         },
         {
          "sample": "RPE_Choroid_1003LT_S14001_RPEChor_LT_06",
          "score": 0.51,
          "signature": "Brain_Cerebellar_Hemisphere_NR_0_7_3"
         },
         {
          "sample": "RPE_Choroid_1003RT_S6001_RPEChor_Control_06",
          "score": 0.8,
          "signature": "Brain_Cerebellar_Hemisphere_NR_0_7_3"
         },
         {
          "sample": "RPE_Choroid_1004LT_S30001_RPEChor_LT_06",
          "score": 0,
          "signature": "Brain_Cerebellar_Hemisphere_NR_0_7_3"
         },
         {
          "sample": "RPE_Choroid_1004RT_S22001_RPEChor_Control_06",
          "score": 0,
          "signature": "Brain_Cerebellar_Hemisphere_NR_0_7_3"
         },
         {
          "sample": "RPE_Choroid_1005LT_S44001_RPEChor_LT_08",
          "score": 0,
          "signature": "Brain_Cerebellar_Hemisphere_NR_0_7_3"
         },
         {
          "sample": "RPE_Choroid_1005RT_S37001_RPEChor_Control_08",
          "score": 0.74,
          "signature": "Brain_Cerebellar_Hemisphere_NR_0_7_3"
         },
         {
          "sample": "RPE_Choroid_1006LT_S57001_RPEChor_LT_08",
          "score": 0.18,
          "signature": "Brain_Cerebellar_Hemisphere_NR_0_7_3"
         },
         {
          "sample": "RPE_Choroid_1006RT_S51001_RPEChor_Control_08",
          "score": 0.01,
          "signature": "Brain_Cerebellar_Hemisphere_NR_0_7_3"
         },
         {
          "sample": "RPE_Choroid_1007LT_S15001_RPEChor_LT_15",
          "score": 5.18,
          "signature": "Brain_Cerebellar_Hemisphere_NR_0_7_3"
         },
         {
          "sample": "RPE_Choroid_1007RT_S7001_RPEChor_Control_15",
          "score": 12.26,
          "signature": "Brain_Cerebellar_Hemisphere_NR_0_7_3"
         },
         {
          "sample": "RPE_Choroid_1008LT_S31001_RPEChor_LT_15",
          "score": 1.65,
          "signature": "Brain_Cerebellar_Hemisphere_NR_0_7_3"
         },
         {
          "sample": "RPE_Choroid_1008RT_S23001_RPEChor_Control_15",
          "score": 1.08,
          "signature": "Brain_Cerebellar_Hemisphere_NR_0_7_3"
         },
         {
          "sample": "RPE_Choroid_1009LT_S45001_RPEChor_LT_22",
          "score": 3.06,
          "signature": "Brain_Cerebellar_Hemisphere_NR_0_7_3"
         },
         {
          "sample": "RPE_Choroid_1009RT_S38001_RPEChor_Control_22",
          "score": 0.04,
          "signature": "Brain_Cerebellar_Hemisphere_NR_0_7_3"
         },
         {
          "sample": "RPE_Choroid_1010LT_S58001_RPEChor_LT_22",
          "score": 0.97,
          "signature": "Brain_Cerebellar_Hemisphere_NR_0_7_3"
         },
         {
          "sample": "RPE_Choroid_1010RT_S52001_RPEChor_Control_22",
          "score": 0.15,
          "signature": "Brain_Cerebellar_Hemisphere_NR_0_7_3"
         },
         {
          "sample": "Retina_1001LT_S11001_Ret_LT_04",
          "score": 37.19,
          "signature": "Brain_Cerebellum_NR_0_7_3"
         },
         {
          "sample": "Retina_1001RT_S3001_Ret_Control_04",
          "score": 32.49,
          "signature": "Brain_Cerebellum_NR_0_7_3"
         },
         {
          "sample": "Retina_1002LT_S27001_Ret_LT_04",
          "score": 32.81,
          "signature": "Brain_Cerebellum_NR_0_7_3"
         },
         {
          "sample": "Retina_1002RT_S19001_Ret_Control_04",
          "score": 27.99,
          "signature": "Brain_Cerebellum_NR_0_7_3"
         },
         {
          "sample": "Retina_1003LT_S41001_Ret_LT_06",
          "score": 31.01,
          "signature": "Brain_Cerebellum_NR_0_7_3"
         },
         {
          "sample": "Retina_1003RT_S34001_Ret_Control_06",
          "score": 31.46,
          "signature": "Brain_Cerebellum_NR_0_7_3"
         },
         {
          "sample": "Retina_1004LT_S54001_Ret_LT_06",
          "score": 31.74,
          "signature": "Brain_Cerebellum_NR_0_7_3"
         },
         {
          "sample": "Retina_1004RT_S48001_Ret_Control_06",
          "score": 35.58,
          "signature": "Brain_Cerebellum_NR_0_7_3"
         },
         {
          "sample": "Retina_1005LT_S12001_Ret_LT_08",
          "score": 33.26,
          "signature": "Brain_Cerebellum_NR_0_7_3"
         },
         {
          "sample": "Retina_1005RT_S4001_Ret_Control_08",
          "score": 34.97,
          "signature": "Brain_Cerebellum_NR_0_7_3"
         },
         {
          "sample": "Retina_1006LT_S28001_Ret_LT_08",
          "score": 35.51,
          "signature": "Brain_Cerebellum_NR_0_7_3"
         },
         {
          "sample": "Retina_1006RT_S20001_Ret_Control_08",
          "score": 30.32,
          "signature": "Brain_Cerebellum_NR_0_7_3"
         },
         {
          "sample": "Retina_1007LT_S42001_Ret_LT_15",
          "score": 34.06,
          "signature": "Brain_Cerebellum_NR_0_7_3"
         },
         {
          "sample": "Retina_1007RT_S35001_Ret_Control_15",
          "score": 34.33,
          "signature": "Brain_Cerebellum_NR_0_7_3"
         },
         {
          "sample": "Retina_1008LT_S55001_Ret_LT_15",
          "score": 33.12,
          "signature": "Brain_Cerebellum_NR_0_7_3"
         },
         {
          "sample": "Retina_1008RT_S49001_Ret_Control_15",
          "score": 32.37,
          "signature": "Brain_Cerebellum_NR_0_7_3"
         },
         {
          "sample": "Retina_1009LT_S13001_Ret_LT_22",
          "score": 37.29,
          "signature": "Brain_Cerebellum_NR_0_7_3"
         },
         {
          "sample": "Retina_1009RT_S5001_Ret_Control_22",
          "score": 32.13,
          "signature": "Brain_Cerebellum_NR_0_7_3"
         },
         {
          "sample": "Retina_1010LT_S29001_Ret_LT_22",
          "score": 31.77,
          "signature": "Brain_Cerebellum_NR_0_7_3"
         },
         {
          "sample": "Retina_1010RT_S21001_Ret_Control_22",
          "score": 35.47,
          "signature": "Brain_Cerebellum_NR_0_7_3"
         },
         {
          "sample": "RPE_Choroid_1001LT_S43001_RPEChor_LT_04",
          "score": 4.6,
          "signature": "Brain_Cerebellum_NR_0_7_3"
         },
         {
          "sample": "RPE_Choroid_1001RT_S36001_RPEChor_Control_04",
          "score": 4.57,
          "signature": "Brain_Cerebellum_NR_0_7_3"
         },
         {
          "sample": "RPE_Choroid_1002LT_S56001_RPEChor_LT_04",
          "score": 8.54,
          "signature": "Brain_Cerebellum_NR_0_7_3"
         },
         {
          "sample": "RPE_Choroid_1002RT_S50001_RPEChor_Control_04",
          "score": 3.52,
          "signature": "Brain_Cerebellum_NR_0_7_3"
         },
         {
          "sample": "RPE_Choroid_1003LT_S14001_RPEChor_LT_06",
          "score": 0.7,
          "signature": "Brain_Cerebellum_NR_0_7_3"
         },
         {
          "sample": "RPE_Choroid_1003RT_S6001_RPEChor_Control_06",
          "score": 0.84,
          "signature": "Brain_Cerebellum_NR_0_7_3"
         },
         {
          "sample": "RPE_Choroid_1004LT_S30001_RPEChor_LT_06",
          "score": 0,
          "signature": "Brain_Cerebellum_NR_0_7_3"
         },
         {
          "sample": "RPE_Choroid_1004RT_S22001_RPEChor_Control_06",
          "score": 0,
          "signature": "Brain_Cerebellum_NR_0_7_3"
         },
         {
          "sample": "RPE_Choroid_1005LT_S44001_RPEChor_LT_08",
          "score": 0,
          "signature": "Brain_Cerebellum_NR_0_7_3"
         },
         {
          "sample": "RPE_Choroid_1005RT_S37001_RPEChor_Control_08",
          "score": 0.83,
          "signature": "Brain_Cerebellum_NR_0_7_3"
         },
         {
          "sample": "RPE_Choroid_1006LT_S57001_RPEChor_LT_08",
          "score": 0.23,
          "signature": "Brain_Cerebellum_NR_0_7_3"
         },
         {
          "sample": "RPE_Choroid_1006RT_S51001_RPEChor_Control_08",
          "score": 0.01,
          "signature": "Brain_Cerebellum_NR_0_7_3"
         },
         {
          "sample": "RPE_Choroid_1007LT_S15001_RPEChor_LT_15",
          "score": 5.78,
          "signature": "Brain_Cerebellum_NR_0_7_3"
         },
         {
          "sample": "RPE_Choroid_1007RT_S7001_RPEChor_Control_15",
          "score": 12.96,
          "signature": "Brain_Cerebellum_NR_0_7_3"
         },
         {
          "sample": "RPE_Choroid_1008LT_S31001_RPEChor_LT_15",
          "score": 2,
          "signature": "Brain_Cerebellum_NR_0_7_3"
         },
         {
          "sample": "RPE_Choroid_1008RT_S23001_RPEChor_Control_15",
          "score": 1.2,
          "signature": "Brain_Cerebellum_NR_0_7_3"
         },
         {
          "sample": "RPE_Choroid_1009LT_S45001_RPEChor_LT_22",
          "score": 3.36,
          "signature": "Brain_Cerebellum_NR_0_7_3"
         },
         {
          "sample": "RPE_Choroid_1009RT_S38001_RPEChor_Control_22",
          "score": 0.09,
          "signature": "Brain_Cerebellum_NR_0_7_3"
         },
         {
          "sample": "RPE_Choroid_1010LT_S58001_RPEChor_LT_22",
          "score": 1.16,
          "signature": "Brain_Cerebellum_NR_0_7_3"
         },
         {
          "sample": "RPE_Choroid_1010RT_S52001_RPEChor_Control_22",
          "score": 0.2,
          "signature": "Brain_Cerebellum_NR_0_7_3"
         },
         {
          "sample": "Retina_1001LT_S11001_Ret_LT_04",
          "score": 24.93,
          "signature": "Brain_Frontal_Cortex_(BA9)_NR_0_7_3"
         },
         {
          "sample": "Retina_1001RT_S3001_Ret_Control_04",
          "score": 22.33,
          "signature": "Brain_Frontal_Cortex_(BA9)_NR_0_7_3"
         },
         {
          "sample": "Retina_1002LT_S27001_Ret_LT_04",
          "score": 22.48,
          "signature": "Brain_Frontal_Cortex_(BA9)_NR_0_7_3"
         },
         {
          "sample": "Retina_1002RT_S19001_Ret_Control_04",
          "score": 19.12,
          "signature": "Brain_Frontal_Cortex_(BA9)_NR_0_7_3"
         },
         {
          "sample": "Retina_1003LT_S41001_Ret_LT_06",
          "score": 21.49,
          "signature": "Brain_Frontal_Cortex_(BA9)_NR_0_7_3"
         },
         {
          "sample": "Retina_1003RT_S34001_Ret_Control_06",
          "score": 21.47,
          "signature": "Brain_Frontal_Cortex_(BA9)_NR_0_7_3"
         },
         {
          "sample": "Retina_1004LT_S54001_Ret_LT_06",
          "score": 21.24,
          "signature": "Brain_Frontal_Cortex_(BA9)_NR_0_7_3"
         },
         {
          "sample": "Retina_1004RT_S48001_Ret_Control_06",
          "score": 24.56,
          "signature": "Brain_Frontal_Cortex_(BA9)_NR_0_7_3"
         },
         {
          "sample": "Retina_1005LT_S12001_Ret_LT_08",
          "score": 22.64,
          "signature": "Brain_Frontal_Cortex_(BA9)_NR_0_7_3"
         },
         {
          "sample": "Retina_1005RT_S4001_Ret_Control_08",
          "score": 24.64,
          "signature": "Brain_Frontal_Cortex_(BA9)_NR_0_7_3"
         },
         {
          "sample": "Retina_1006LT_S28001_Ret_LT_08",
          "score": 24.84,
          "signature": "Brain_Frontal_Cortex_(BA9)_NR_0_7_3"
         },
         {
          "sample": "Retina_1006RT_S20001_Ret_Control_08",
          "score": 20.68,
          "signature": "Brain_Frontal_Cortex_(BA9)_NR_0_7_3"
         },
         {
          "sample": "Retina_1007LT_S42001_Ret_LT_15",
          "score": 23.52,
          "signature": "Brain_Frontal_Cortex_(BA9)_NR_0_7_3"
         },
         {
          "sample": "Retina_1007RT_S35001_Ret_Control_15",
          "score": 23.43,
          "signature": "Brain_Frontal_Cortex_(BA9)_NR_0_7_3"
         },
         {
          "sample": "Retina_1008LT_S55001_Ret_LT_15",
          "score": 22.39,
          "signature": "Brain_Frontal_Cortex_(BA9)_NR_0_7_3"
         },
         {
          "sample": "Retina_1008RT_S49001_Ret_Control_15",
          "score": 22.26,
          "signature": "Brain_Frontal_Cortex_(BA9)_NR_0_7_3"
         },
         {
          "sample": "Retina_1009LT_S13001_Ret_LT_22",
          "score": 24.71,
          "signature": "Brain_Frontal_Cortex_(BA9)_NR_0_7_3"
         },
         {
          "sample": "Retina_1009RT_S5001_Ret_Control_22",
          "score": 21.28,
          "signature": "Brain_Frontal_Cortex_(BA9)_NR_0_7_3"
         },
         {
          "sample": "Retina_1010LT_S29001_Ret_LT_22",
          "score": 21.79,
          "signature": "Brain_Frontal_Cortex_(BA9)_NR_0_7_3"
         },
         {
          "sample": "Retina_1010RT_S21001_Ret_Control_22",
          "score": 24.08,
          "signature": "Brain_Frontal_Cortex_(BA9)_NR_0_7_3"
         },
         {
          "sample": "RPE_Choroid_1001LT_S43001_RPEChor_LT_04",
          "score": 4.01,
          "signature": "Brain_Frontal_Cortex_(BA9)_NR_0_7_3"
         },
         {
          "sample": "RPE_Choroid_1001RT_S36001_RPEChor_Control_04",
          "score": 3.45,
          "signature": "Brain_Frontal_Cortex_(BA9)_NR_0_7_3"
         },
         {
          "sample": "RPE_Choroid_1002LT_S56001_RPEChor_LT_04",
          "score": 6.49,
          "signature": "Brain_Frontal_Cortex_(BA9)_NR_0_7_3"
         },
         {
          "sample": "RPE_Choroid_1002RT_S50001_RPEChor_Control_04",
          "score": 2.93,
          "signature": "Brain_Frontal_Cortex_(BA9)_NR_0_7_3"
         },
         {
          "sample": "RPE_Choroid_1003LT_S14001_RPEChor_LT_06",
          "score": 0.55,
          "signature": "Brain_Frontal_Cortex_(BA9)_NR_0_7_3"
         },
         {
          "sample": "RPE_Choroid_1003RT_S6001_RPEChor_Control_06",
          "score": 1.08,
          "signature": "Brain_Frontal_Cortex_(BA9)_NR_0_7_3"
         },
         {
          "sample": "RPE_Choroid_1004LT_S30001_RPEChor_LT_06",
          "score": 0.01,
          "signature": "Brain_Frontal_Cortex_(BA9)_NR_0_7_3"
         },
         {
          "sample": "RPE_Choroid_1004RT_S22001_RPEChor_Control_06",
          "score": 0,
          "signature": "Brain_Frontal_Cortex_(BA9)_NR_0_7_3"
         },
         {
          "sample": "RPE_Choroid_1005LT_S44001_RPEChor_LT_08",
          "score": 0.01,
          "signature": "Brain_Frontal_Cortex_(BA9)_NR_0_7_3"
         },
         {
          "sample": "RPE_Choroid_1005RT_S37001_RPEChor_Control_08",
          "score": 0.81,
          "signature": "Brain_Frontal_Cortex_(BA9)_NR_0_7_3"
         },
         {
          "sample": "RPE_Choroid_1006LT_S57001_RPEChor_LT_08",
          "score": 0.47,
          "signature": "Brain_Frontal_Cortex_(BA9)_NR_0_7_3"
         },
         {
          "sample": "RPE_Choroid_1006RT_S51001_RPEChor_Control_08",
          "score": 0.09,
          "signature": "Brain_Frontal_Cortex_(BA9)_NR_0_7_3"
         },
         {
          "sample": "RPE_Choroid_1007LT_S15001_RPEChor_LT_15",
          "score": 4.64,
          "signature": "Brain_Frontal_Cortex_(BA9)_NR_0_7_3"
         },
         {
          "sample": "RPE_Choroid_1007RT_S7001_RPEChor_Control_15",
          "score": 9.64,
          "signature": "Brain_Frontal_Cortex_(BA9)_NR_0_7_3"
         },
         {
          "sample": "RPE_Choroid_1008LT_S31001_RPEChor_LT_15",
          "score": 1.72,
          "signature": "Brain_Frontal_Cortex_(BA9)_NR_0_7_3"
         },
         {
          "sample": "RPE_Choroid_1008RT_S23001_RPEChor_Control_15",
          "score": 1.52,
          "signature": "Brain_Frontal_Cortex_(BA9)_NR_0_7_3"
         },
         {
          "sample": "RPE_Choroid_1009LT_S45001_RPEChor_LT_22",
          "score": 2.94,
          "signature": "Brain_Frontal_Cortex_(BA9)_NR_0_7_3"
         },
         {
          "sample": "RPE_Choroid_1009RT_S38001_RPEChor_Control_22",
          "score": 0.14,
          "signature": "Brain_Frontal_Cortex_(BA9)_NR_0_7_3"
         },
         {
          "sample": "RPE_Choroid_1010LT_S58001_RPEChor_LT_22",
          "score": 1.29,
          "signature": "Brain_Frontal_Cortex_(BA9)_NR_0_7_3"
         },
         {
          "sample": "RPE_Choroid_1010RT_S52001_RPEChor_Control_22",
          "score": 0.34,
          "signature": "Brain_Frontal_Cortex_(BA9)_NR_0_7_3"
         }
        ]
       },
       "hconcat": [
        {
         "data": {
          "name": "data-7f75e0212d59f5e6f749fcc7f852ab33"
         },
         "encoding": {
          "color": {
           "condition": {
            "field": "score",
            "legend": null,
            "scale": {
             "domain": [
              0,
              30
             ],
             "range": [
              "white",
              "red"
             ]
            },
            "selection": "selector063",
            "type": "quantitative"
           },
           "value": "lightgray"
          },
          "x": {
           "field": "sample",
           "type": "nominal"
          },
          "y": {
           "field": "signature",
           "type": "nominal"
          }
         },
         "mark": "rect",
         "selection": {
          "selector063": {
           "empty": "all",
           "fields": [
            "signature"
           ],
           "on": "click",
           "resolve": "global",
           "type": "single"
          }
         }
        },
        {
         "data": {
          "name": "data-7f75e0212d59f5e6f749fcc7f852ab33"
         },
         "encoding": {
          "color": {
           "field": "signature",
           "legend": null,
           "type": "nominal"
          },
          "x": {
           "field": "sample",
           "type": "nominal"
          },
          "y": {
           "field": "score",
           "scale": {
            "domain": [
             0,
             100
            ]
           },
           "type": "quantitative"
          }
         },
         "mark": "line",
         "selection": {
          "selector063": {
           "empty": "all",
           "fields": [
            "signature"
           ],
           "on": "click",
           "resolve": "global",
           "type": "single"
          }
         },
         "transform": [
          {
           "filter": {
            "selection": "selector063"
           }
          }
         ]
        }
       ]
      },
      "image/png": "[encoded data removed]",
      "text/plain": [
       "<VegaLite 2 object>\n",
       "\n",
       "If you see this message, it means the renderer has not been properly enabled\n",
       "for the frontend that you are using. For more information, see\n",
       "https://altair-viz.github.io/user_guide/troubleshooting.html\n"
      ]
     },
     "execution_count": 110,
     "metadata": {},
     "output_type": "execute_result"
    }
   ],
   "source": [
    "# Data is prepared, now make a chart\n",
    "\n",
    "selector = alt.selection_single(empty='all', fields=['signature'])\n",
    "\n",
    "base = alt.Chart(df1).properties(\n",
    "    #width=300,\n",
    "    #height=500\n",
    ").add_selection(selector)\n",
    "\n",
    "points = base.mark_point(filled=True, size=50).encode(\n",
    "    x='sample:N',\n",
    "    y='score:Q',\n",
    "    color=alt.condition(selector, 'sample:N', alt.value('lightgray'), legend=None),\n",
    ").interactive()\n",
    "\n",
    "heatmap = base.mark_rect().encode(\n",
    "    x='sample:N',\n",
    "    y='signature:N',\n",
    "    color=alt.condition(selector, 'score:Q', alt.value('lightgray'), legend=None, \n",
    "                        scale=alt.Scale(domain=(0, 30), range=['white', 'red'])),\n",
    ")\n",
    "\n",
    "\n",
    "lines = base.mark_line().encode(\n",
    "    x='sample:N',\n",
    "    y=alt.Y('score:Q', scale=alt.Scale(domain=(0, 100))),\n",
    "    color=alt.Color('signature:N', legend=None)\n",
    ").transform_filter(\n",
    "    selector\n",
    ")\n",
    "\n",
    "#points | timeseries\n",
    "#chart = heatmap | lines\n",
    "heatmap | lines"
   ]
  },
  {
   "cell_type": "code",
   "execution_count": 111,
   "metadata": {},
   "outputs": [],
   "source": [
    "chart = heatmap | lines\n",
    "chart.save('bioqc.html')"
   ]
  },
  {
   "cell_type": "code",
   "execution_count": null,
   "metadata": {},
   "outputs": [],
   "source": []
  }
 ],
 "metadata": {
  "kernelspec": {
   "display_name": "Python 3",
   "language": "python",
   "name": "python3"
  },
  "language_info": {
   "codemirror_mode": {
    "name": "ipython",
    "version": 3
   },
   "file_extension": ".py",
   "mimetype": "text/x-python",
   "name": "python",
   "nbconvert_exporter": "python",
   "pygments_lexer": "ipython3",
   "version": "3.6.5"
  }
 },
 "nbformat": 4,
 "nbformat_minor": 2
}
