{
 "cells": [
  {
   "cell_type": "code",
   "execution_count": null,
   "metadata": {},
   "outputs": [],
   "source": [
    "\n",
    "import os\n",
    "import sys\n",
    "import pandas as pd\n",
    "sys.path.insert(0, os.path.join(sys.path[0], '..'))\n",
    "\n",
    "\n",
    "from altair import Chart, Color, Scale"
   ]
  },
  {
   "cell_type": "code",
   "execution_count": 26,
   "metadata": {},
   "outputs": [
    {
     "data": {
      "application/vnd.vegalite.v2+json": {
       "$schema": "https://vega.github.io/schema/vega-lite/v2.6.0.json",
       "config": {
        "view": {
         "height": 300,
         "width": 400
        }
       },
       "data": {
        "name": "data-171ebac47bfcf9990b203f19bb7c3472"
       },
       "datasets": {
        "data-171ebac47bfcf9990b203f19bb7c3472": [
         {
          "type": "a",
          "value": 100,
          "weight": 0.45
         },
         {
          "type": "b",
          "value": 70,
          "weight": 0.6
         },
         {
          "type": "g",
          "value": 40,
          "weight": -0.2
         },
         {
          "type": "d",
          "value": 15,
          "weight": 0.1
         }
        ]
       },
       "encoding": {
        "color": {
         "field": "type",
         "scale": {
          "domain": [
           "a",
           "b",
           "g",
           "d"
          ],
          "range": [
           "#ff00ff",
           "gold",
           "red",
           "green"
          ]
         },
         "type": "nominal"
        },
        "x": {
         "field": "type",
         "type": "nominal"
        },
        "y": {
         "field": "value",
         "type": "quantitative"
        }
       },
       "mark": "circle",
       "selection": {
        "selector007": {
         "bind": "scales",
         "encodings": [
          "x",
          "y"
         ],
         "mark": {
          "fill": "#333",
          "fillOpacity": 0.125,
          "stroke": "white"
         },
         "on": "[mousedown, window:mouseup] > window:mousemove!",
         "resolve": "global",
         "translate": "[mousedown, window:mouseup] > window:mousemove!",
         "type": "interval",
         "zoom": "wheel!"
        }
       }
      },
      "image/png": "[encoded data removed]",
      "text/plain": [
       "<VegaLite 2 object>\n",
       "\n",
       "If you see this message, it means the renderer has not been properly enabled\n",
       "for the frontend that you are using. For more information, see\n",
       "https://altair-viz.github.io/user_guide/troubleshooting.html\n"
      ]
     },
     "execution_count": 26,
     "metadata": {},
     "output_type": "execute_result"
    }
   ],
   "source": [
    "sc_data = [\n",
    "    {\"value\": 100, \"weight\": .45, \"type\": \"a\"},\n",
    "    {\"value\": 70, \"weight\": .60, \"type\": \"b\"},\n",
    "    {\"value\": 40, \"weight\": -.2, \"type\": \"g\"},\n",
    "    {\"value\": 15, \"weight\": .1, \"type\": \"d\"}\n",
    "]\n",
    "\n",
    "df1 = pd.DataFrame(sc_data)\n",
    "\n",
    "\n",
    "Chart(df1).mark_circle().encode(\n",
    "    Color('type:N',\n",
    "          scale=Scale(domain=['a', 'b','g','d'], range=['#ff00ff', 'gold', 'red','green'])), y='value:Q',x='type:N').interactive()"
   ]
  },
  {
   "cell_type": "code",
   "execution_count": null,
   "metadata": {},
   "outputs": [],
   "source": []
  }
 ],
 "metadata": {
  "kernelspec": {
   "display_name": "Python 3",
   "language": "python",
   "name": "python3"
  },
  "language_info": {
   "codemirror_mode": {
    "name": "ipython",
    "version": 3
   },
   "file_extension": ".py",
   "mimetype": "text/x-python",
   "name": "python",
   "nbconvert_exporter": "python",
   "pygments_lexer": "ipython3",
   "version": "3.6.5"
  }
 },
 "nbformat": 4,
 "nbformat_minor": 2
}
